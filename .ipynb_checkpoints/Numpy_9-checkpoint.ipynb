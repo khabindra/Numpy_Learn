{
 "cells": [
  {
   "cell_type": "code",
   "execution_count": 1,
   "id": "57fec843-daf6-431c-adfe-2b2658fab25a",
   "metadata": {},
   "outputs": [],
   "source": [
    "import numpy as np"
   ]
  },
  {
   "cell_type": "code",
   "execution_count": 2,
   "id": "633964cb-09cb-4ffb-8a0b-5fc3e2f1dcaa",
   "metadata": {},
   "outputs": [],
   "source": [
    "# Broadcasting :\n",
    "# ->the ability of numpy to perform arithimetic operations on disimilar arrays."
   ]
  },
  {
   "cell_type": "code",
   "execution_count": 6,
   "id": "ca5f06bf-c3cc-44b7-933f-0b6b5c55c405",
   "metadata": {},
   "outputs": [
    {
     "name": "stdout",
     "output_type": "stream",
     "text": [
      "[[0 1 2 3]\n",
      " [4 5 6 7]]\n",
      "-------------\n",
      "[[ 8  9 10 11]\n",
      " [12 13 14 15]]\n"
     ]
    }
   ],
   "source": [
    "# Scenario 1\n",
    "a1 = np.arange(8).reshape(2,4)\n",
    "a2 = np.arange(8,16).reshape(2,4)\n",
    "print(a1)\n",
    "print(\"-------------\")\n",
    "print(a2)"
   ]
  },
  {
   "cell_type": "code",
   "execution_count": 7,
   "id": "42103a6c-f5b6-4843-95ee-15caf1f22d44",
   "metadata": {},
   "outputs": [
    {
     "data": {
      "text/plain": [
       "array([[ 8, 10, 12, 14],\n",
       "       [16, 18, 20, 22]])"
      ]
     },
     "execution_count": 7,
     "metadata": {},
     "output_type": "execute_result"
    }
   ],
   "source": [
    "a1+a2"
   ]
  },
  {
   "cell_type": "code",
   "execution_count": 11,
   "id": "d07cc168-8955-43b6-993e-42381bc43ea6",
   "metadata": {},
   "outputs": [
    {
     "name": "stdout",
     "output_type": "stream",
     "text": [
      "[[0 1 2]\n",
      " [3 4 5]\n",
      " [6 7 8]]\n",
      "==========\n",
      "[[0 1 2]]\n"
     ]
    }
   ],
   "source": [
    "# Scenario 2\n",
    "a3 = np.arange(9).reshape(3,3)\n",
    "a4 = np.arange(3).reshape(1,3)\n",
    "print(a3)\n",
    "print(\"==========\")\n",
    "print(a4)"
   ]
  },
  {
   "cell_type": "code",
   "execution_count": 14,
   "id": "8c78246b-c036-4a16-b2a2-7a3ad8ae464f",
   "metadata": {},
   "outputs": [
    {
     "data": {
      "text/plain": [
       "array([[ 0,  2,  4],\n",
       "       [ 3,  5,  7],\n",
       "       [ 6,  8, 10]])"
      ]
     },
     "execution_count": 14,
     "metadata": {},
     "output_type": "execute_result"
    }
   ],
   "source": [
    "a3+a4\n",
    "# although the matrix of different dimension but the addition is successfully done.\n",
    "# a4 array row is added to all 4 row of the a3 array . this is broadcasting in numpy."
   ]
  },
  {
   "cell_type": "code",
   "execution_count": 15,
   "id": "77a29c0c-53bf-4487-99ee-f9291cc15776",
   "metadata": {},
   "outputs": [],
   "source": [
    "# Rules of Broadcasting :"
   ]
  },
  {
   "cell_type": "code",
   "execution_count": 16,
   "id": "a5f6a0e7-e6ed-45ec-9aea-ec53da571c70",
   "metadata": {},
   "outputs": [
    {
     "data": {
      "text/plain": [
       "array([[ 8, 10, 12, 14],\n",
       "       [16, 18, 20, 22]])"
      ]
     },
     "execution_count": 16,
     "metadata": {},
     "output_type": "execute_result"
    }
   ],
   "source": [
    "# if x=m and y=n , operation will take place \n",
    "a1 = np.arange(8).reshape(2,4)\n",
    "a2 = np.arange(8,16).reshape(2,4)\n",
    "a1+a2"
   ]
  },
  {
   "cell_type": "code",
   "execution_count": 18,
   "id": "0094ccd6-3b0f-4fdb-9dda-7494276bc86e",
   "metadata": {},
   "outputs": [
    {
     "name": "stdout",
     "output_type": "stream",
     "text": [
      "[[0 1 2]]\n",
      "-----\n",
      "[[ 0  1  2]\n",
      " [ 3  4  5]\n",
      " [ 6  7  8]\n",
      " [ 9 10 11]]\n",
      "-----\n",
      "[[ 0  2  4]\n",
      " [ 3  5  7]\n",
      " [ 6  8 10]\n",
      " [ 9 11 13]]\n"
     ]
    }
   ],
   "source": [
    "# if x=1 and y=n then also operation will take place(Same Dimension)\n",
    "a5 = np.arange(3).reshape(1,3)\n",
    "a6 = np.arange(12).reshape(4,3)\n",
    "print(a5)\n",
    "print(\"-----\")\n",
    "print(a6)\n",
    "print(\"-----\")\n",
    "print(a5+a6)"
   ]
  },
  {
   "cell_type": "code",
   "execution_count": 21,
   "id": "d5349ed4-64e7-4e7d-b87c-72a63e326e50",
   "metadata": {},
   "outputs": [
    {
     "name": "stdout",
     "output_type": "stream",
     "text": [
      "[[0]\n",
      " [1]\n",
      " [2]\n",
      " [3]]\n",
      "----\n",
      "[[ 0  1  2]\n",
      " [ 3  4  5]\n",
      " [ 6  7  8]\n",
      " [ 9 10 11]]\n",
      "--\n",
      "[[ 0  1  2]\n",
      " [ 4  5  6]\n",
      " [ 8  9 10]\n",
      " [12 13 14]]\n"
     ]
    }
   ],
   "source": [
    "# if y =1 and x = m also operation will take place even if they are not of same dimension .\n",
    "a7 = np.arange(4).reshape(4,1)\n",
    "print(a7)\n",
    "print(\"----\")\n",
    "a8 = np.arange(12).reshape(4,3)\n",
    "print(a8)\n",
    "print(\"--\")\n",
    "print(a7+a8)"
   ]
  },
  {
   "cell_type": "code",
   "execution_count": 22,
   "id": "d4c3a2e6-709b-4610-b1e2-912b8f042f3b",
   "metadata": {},
   "outputs": [
    {
     "name": "stdout",
     "output_type": "stream",
     "text": [
      "[[0 1 2]]\n",
      "--------\n",
      "[[0]\n",
      " [1]\n",
      " [2]]\n",
      "-----------\n",
      "[[0 1 2]\n",
      " [1 2 3]\n",
      " [2 3 4]]\n"
     ]
    }
   ],
   "source": [
    "# if x = 1 and n = 1 then y==m, operation to take place \n",
    "a11 = np.arange(3).reshape(1,3)\n",
    "a12 = np.arange(3).reshape(3,1)\n",
    "print(a11)\n",
    "print(\"--------\")\n",
    "print(a12)\n",
    "print(\"-----------\")\n",
    "print(a11+a12)"
   ]
  },
  {
   "cell_type": "code",
   "execution_count": 27,
   "id": "3b81dd6e-406e-44ff-93d0-f3d2b5b9c27b",
   "metadata": {},
   "outputs": [
    {
     "name": "stdout",
     "output_type": "stream",
     "text": [
      "[[1]]\n",
      "----------------\n",
      "[[ 0  1  2  3  4]\n",
      " [ 5  6  7  8  9]\n",
      " [10 11 12 13 14]\n",
      " [15 16 17 18 19]]\n",
      "----------\n",
      "[[ 1  2  3  4  5]\n",
      " [ 6  7  8  9 10]\n",
      " [11 12 13 14 15]\n",
      " [16 17 18 19 20]]\n"
     ]
    }
   ],
   "source": [
    "# if x=1 and y=1, then the operation will take place no matter what \n",
    "a13 = np.arange(1,2).reshape(1,1)\n",
    "print(a13)\n",
    "print(\"----------------\")\n",
    "a14 = np.arange(20).reshape(4,5)\n",
    "print(a14)\n",
    "print(\"----------\")\n",
    "print(a13+a14)"
   ]
  },
  {
   "cell_type": "code",
   "execution_count": 29,
   "id": "98050c91-163a-409c-bbbf-0a0b253678b8",
   "metadata": {},
   "outputs": [
    {
     "name": "stdout",
     "output_type": "stream",
     "text": [
      "[0 1 2 3]\n",
      "----------\n",
      "[[ 0  1  2  3]\n",
      " [ 4  5  6  7]\n",
      " [ 8  9 10 11]\n",
      " [12 13 14 15]\n",
      " [16 17 18 19]]\n",
      "------------\n",
      "[[ 0  2  4  6]\n",
      " [ 4  6  8 10]\n",
      " [ 8 10 12 14]\n",
      " [12 14 16 18]\n",
      " [16 18 20 22]]\n"
     ]
    }
   ],
   "source": [
    "# if they are of different dimension :\n",
    "a15 = np.arange(4)\n",
    "a16 = np.arange(20).reshape(5,4)\n",
    "print(a15)\n",
    "print(\"----------\")\n",
    "print(a16)\n",
    "print(\"------------\")\n",
    "print(a15+a16)"
   ]
  },
  {
   "cell_type": "code",
   "execution_count": null,
   "id": "966a8e3f-a245-4c3b-a72e-b504573f14e9",
   "metadata": {},
   "outputs": [],
   "source": []
  }
 ],
 "metadata": {
  "kernelspec": {
   "display_name": "Python 3 (ipykernel)",
   "language": "python",
   "name": "python3"
  },
  "language_info": {
   "codemirror_mode": {
    "name": "ipython",
    "version": 3
   },
   "file_extension": ".py",
   "mimetype": "text/x-python",
   "name": "python",
   "nbconvert_exporter": "python",
   "pygments_lexer": "ipython3",
   "version": "3.11.5"
  }
 },
 "nbformat": 4,
 "nbformat_minor": 5
}
