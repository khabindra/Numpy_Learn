{
 "cells": [
  {
   "cell_type": "code",
   "execution_count": 10,
   "id": "769e2d36-0278-4066-8f0a-b2d8033ab170",
   "metadata": {},
   "outputs": [
    {
     "data": {
      "text/plain": [
       "(2, 4)"
      ]
     },
     "execution_count": 10,
     "metadata": {},
     "output_type": "execute_result"
    }
   ],
   "source": [
    "# to check the shape of the arr1\n",
    "arr1.shape"
   ]
  },
  {
   "cell_type": "code",
   "execution_count": 8,
   "id": "a641f7ef-af6d-42e3-8ecf-139a94beddc2",
   "metadata": {},
   "outputs": [
    {
     "name": "stdout",
     "output_type": "stream",
     "text": [
      "[[[ 1  2]\n",
      "  [12 34]]\n",
      "\n",
      " [[11 22]\n",
      "  [55 66]]]\n"
     ]
    }
   ],
   "source": [
    "arr2 = np.array([[[1, 2], [12, 34]], [[11, 22], [55, 66]]])\n",
    "print(arr2)"
   ]
  },
  {
   "cell_type": "code",
   "execution_count": null,
   "id": "483b4404-b9cc-45eb-aa6a-2977c872571f",
   "metadata": {},
   "outputs": [],
   "source": []
  },
  {
   "cell_type": "code",
   "execution_count": null,
   "id": "bcf9a30e-f455-4765-9535-e2e86d35e02c",
   "metadata": {},
   "outputs": [],
   "source": []
  },
  {
   "cell_type": "code",
   "execution_count": 2,
   "id": "c5222379-af8b-462f-8d44-c1a1e32690ab",
   "metadata": {},
   "outputs": [
    {
     "data": {
      "text/plain": [
       "array([[ 1,  2,  3,  4],\n",
       "       [12, 34, 32, 54]])"
      ]
     },
     "execution_count": 2,
     "metadata": {},
     "output_type": "execute_result"
    }
   ],
   "source": [
    "# properties of the numpy array:\n",
    "import numpy as np\n",
    "arr1 = np.array([[1,2,3,4],[12,34,32,54]])\n",
    "arr1"
   ]
  },
  {
   "cell_type": "code",
   "execution_count": 9,
   "id": "979ebed7-0b73-4732-946f-a246c928d9e8",
   "metadata": {},
   "outputs": [
    {
     "data": {
      "text/plain": [
       "(2, 2, 2)"
      ]
     },
     "execution_count": 9,
     "metadata": {},
     "output_type": "execute_result"
    }
   ],
   "source": [
    "# to check the shape of the arr2:\n",
    "arr2.shape"
   ]
  },
  {
   "cell_type": "code",
   "execution_count": 11,
   "id": "abbdf9d3-2d75-4f01-8c3a-6543da9f38e4",
   "metadata": {},
   "outputs": [
    {
     "data": {
      "text/plain": [
       "3"
      ]
     },
     "execution_count": 11,
     "metadata": {},
     "output_type": "execute_result"
    }
   ],
   "source": [
    "# to check the dimension of the arr2 matrix:\n",
    "arr2.ndim"
   ]
  },
  {
   "cell_type": "code",
   "execution_count": 12,
   "id": "7b9f4442-1ed4-4cc3-a7a9-2f30cee73ef5",
   "metadata": {},
   "outputs": [
    {
     "data": {
      "text/plain": [
       "2"
      ]
     },
     "execution_count": 12,
     "metadata": {},
     "output_type": "execute_result"
    }
   ],
   "source": [
    "# to check the dimension of the arr1 matrix above:\n",
    "arr1.ndim"
   ]
  },
  {
   "cell_type": "code",
   "execution_count": 17,
   "id": "be8d0a35-baa5-4caa-8c70-872f874227e7",
   "metadata": {},
   "outputs": [
    {
     "name": "stdout",
     "output_type": "stream",
     "text": [
      "the dimension of the arr3 is:2 \n",
      "the size of the arr3 is:6\n"
     ]
    }
   ],
   "source": [
    "arr3 = np.array([[1,2,3],[33,44,55]])\n",
    "# to check the dimension of the array:\n",
    "print(f\"the dimension of the arr3 is:{arr3.ndim} \")\n",
    "# to check the size of the array:\n",
    "print(f\"the size of the arr3 is:{arr3.size}\")"
   ]
  },
  {
   "cell_type": "code",
   "execution_count": 29,
   "id": "6b1e8432-0eac-4e02-b6cd-066661eea616",
   "metadata": {},
   "outputs": [
    {
     "name": "stdout",
     "output_type": "stream",
     "text": [
      "the matix form of the arr4 is shown below:\n",
      "[[[ 1  2]\n",
      "  [12 34]]\n",
      "\n",
      " [[11 22]\n",
      "  [55 66]]]\n",
      "the dimension of the arr4 is:3 \n",
      "the no of element in the arr4 is:8\n",
      "the size of each element in bytes :4\n"
     ]
    }
   ],
   "source": [
    "arr4 = np.array([[[1, 2], [12, 34]], [[11, 22], [55, 66]]])\n",
    "print(\"the matix form of the arr4 is shown below:\")\n",
    "print(arr4)\n",
    "print(f'the dimension of the arr4 is:{arr4.ndim} ')\n",
    "print(f\"the no of element in the arr4 is:{arr4.size}\")\n",
    "print(f\"the size of each element in bytes :{arr4.itemsize}\")\n"
   ]
  },
  {
   "cell_type": "code",
   "execution_count": 27,
   "id": "ee6844ca-fe7a-4eed-9b5b-4a99fa30de70",
   "metadata": {},
   "outputs": [
    {
     "name": "stdout",
     "output_type": "stream",
     "text": [
      "Size of each element in bytes: 4\n"
     ]
    }
   ],
   "source": [
    "arr5 = np.array([1,2,3,4,5])\n",
    "# Print the result\n",
    "print(f\"Size of each element in bytes: {arr5.itemsize}\")"
   ]
  },
  {
   "cell_type": "code",
   "execution_count": 41,
   "id": "0661aae4-401e-4323-9dba-c515fe014e7b",
   "metadata": {},
   "outputs": [
    {
     "name": "stdout",
     "output_type": "stream",
     "text": [
      "Data type of arr6: int32 which indicates that each element in the array is a 32-bit integer.\n"
     ]
    }
   ],
   "source": [
    "print(f\"Data type of arr5: {arr5.dtype}\")"
   ]
  },
  {
   "cell_type": "code",
   "execution_count": 38,
   "id": "8af2e014-b968-4f43-8f4b-f7e8d58e5c24",
   "metadata": {},
   "outputs": [
    {
     "name": "stdout",
     "output_type": "stream",
     "text": [
      "the data type of arr7 is:float64 which indicates each element in the array is a 64-bit float.\n"
     ]
    }
   ],
   "source": [
    "print(f\"The data type of arr5 is: {arr5.dtype}.\")\n"
   ]
  },
  {
   "cell_type": "code",
   "execution_count": null,
   "id": "0152207d-c4bd-41be-84fb-b56948db251f",
   "metadata": {},
   "outputs": [],
   "source": []
  }
 ],
 "metadata": {
  "kernelspec": {
   "display_name": "Python 3 (ipykernel)",
   "language": "python",
   "name": "python3"
  },
  "language_info": {
   "codemirror_mode": {
    "name": "ipython",
    "version": 3
   },
   "file_extension": ".py",
   "mimetype": "text/x-python",
   "name": "python",
   "nbconvert_exporter": "python",
   "pygments_lexer": "ipython3",
   "version": "3.11.5"
  }
 },
 "nbformat": 4,
 "nbformat_minor": 5
}
