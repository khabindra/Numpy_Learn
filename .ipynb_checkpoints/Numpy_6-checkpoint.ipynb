{
 "cells": [
  {
   "cell_type": "code",
   "execution_count": 1,
   "id": "c18776aa-13ee-44b4-9046-e119527a7edb",
   "metadata": {},
   "outputs": [],
   "source": [
    "# Fancy indexing in Numpy"
   ]
  },
  {
   "cell_type": "code",
   "execution_count": 2,
   "id": "0aafef25-8eb3-4b07-b5b4-ead86af51c33",
   "metadata": {},
   "outputs": [],
   "source": [
    "import numpy as np"
   ]
  },
  {
   "cell_type": "code",
   "execution_count": 4,
   "id": "bd08024a-69bd-49c5-8372-4f7c9653b18b",
   "metadata": {},
   "outputs": [
    {
     "data": {
      "text/plain": [
       "array([[ 0,  1,  2,  3],\n",
       "       [ 4,  5,  6,  7],\n",
       "       [ 8,  9, 10, 11],\n",
       "       [12, 13, 14, 15],\n",
       "       [16, 17, 18, 19],\n",
       "       [20, 21, 22, 23]])"
      ]
     },
     "execution_count": 4,
     "metadata": {},
     "output_type": "execute_result"
    }
   ],
   "source": [
    "arr8 = np.arange(24).reshape(6,4)\n",
    "arr8"
   ]
  },
  {
   "cell_type": "code",
   "execution_count": 6,
   "id": "b152b198-012c-4aa3-9cdb-a1c0b887866f",
   "metadata": {},
   "outputs": [
    {
     "data": {
      "text/plain": [
       "array([[ 0,  1,  2,  3],\n",
       "       [ 8,  9, 10, 11],\n",
       "       [16, 17, 18, 19]])"
      ]
     },
     "execution_count": 6,
     "metadata": {},
     "output_type": "execute_result"
    }
   ],
   "source": [
    "only_row = arr8[[0,2,4]]\n",
    "only_row\n",
    "# this prints only row index no 0,2 and 4 as a array:"
   ]
  },
  {
   "cell_type": "code",
   "execution_count": null,
   "id": "ec10f583-3ce8-4a70-bfa6-9d49f9bd5186",
   "metadata": {},
   "outputs": [],
   "source": []
  }
 ],
 "metadata": {
  "kernelspec": {
   "display_name": "Python 3 (ipykernel)",
   "language": "python",
   "name": "python3"
  },
  "language_info": {
   "codemirror_mode": {
    "name": "ipython",
    "version": 3
   },
   "file_extension": ".py",
   "mimetype": "text/x-python",
   "name": "python",
   "nbconvert_exporter": "python",
   "pygments_lexer": "ipython3",
   "version": "3.11.5"
  }
 },
 "nbformat": 4,
 "nbformat_minor": 5
}
