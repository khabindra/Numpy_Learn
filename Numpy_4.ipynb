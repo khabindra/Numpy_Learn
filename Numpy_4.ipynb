{
 "cells": [
  {
   "cell_type": "code",
   "execution_count": 1,
   "id": "be98c4ec-5dcd-44c6-aec0-357f2221a6fb",
   "metadata": {},
   "outputs": [],
   "source": [
    "import numpy as np"
   ]
  },
  {
   "cell_type": "code",
   "execution_count": 2,
   "id": "2bd34f00-c9f2-4e0b-828f-a4ee2da211a7",
   "metadata": {},
   "outputs": [],
   "source": [
    "arr1 = np.array([1,2,3,4,5,6])\n",
    "arr2 = np.array([4,9,6,2,8,1])"
   ]
  },
  {
   "cell_type": "code",
   "execution_count": 3,
   "id": "394f9f85-010d-4cd0-a69b-5ea6379168a9",
   "metadata": {},
   "outputs": [
    {
     "data": {
      "text/plain": [
       "array([ 3,  7,  3, -2,  3, -5])"
      ]
     },
     "execution_count": 3,
     "metadata": {},
     "output_type": "execute_result"
    }
   ],
   "source": [
    "arr2-arr1"
   ]
  },
  {
   "cell_type": "code",
   "execution_count": 4,
   "id": "cb22a46f-a3d4-4024-be9b-a28a358b1a36",
   "metadata": {},
   "outputs": [
    {
     "data": {
      "text/plain": [
       "array([ 4, 18, 18,  8, 40,  6])"
      ]
     },
     "execution_count": 4,
     "metadata": {},
     "output_type": "execute_result"
    }
   ],
   "source": [
    "arr1*arr2"
   ]
  },
  {
   "cell_type": "code",
   "execution_count": 5,
   "id": "d6f901ac-bd61-42f8-a72a-010ad42f870f",
   "metadata": {},
   "outputs": [
    {
     "data": {
      "text/plain": [
       "array([ 2,  4,  6,  8, 10, 12])"
      ]
     },
     "execution_count": 5,
     "metadata": {},
     "output_type": "execute_result"
    }
   ],
   "source": [
    "arr1*2"
   ]
  },
  {
   "cell_type": "code",
   "execution_count": 7,
   "id": "916d1787-9917-4101-a25c-30ed5f85df4f",
   "metadata": {},
   "outputs": [
    {
     "data": {
      "text/plain": [
       "array([ True,  True,  True, False,  True, False])"
      ]
     },
     "execution_count": 7,
     "metadata": {},
     "output_type": "execute_result"
    }
   ],
   "source": [
    "arr2>3\n",
    "#compare the each element of the arr2 with the 3 and returns boolean data"
   ]
  },
  {
   "cell_type": "code",
   "execution_count": 27,
   "id": "fd00270d-ebf4-40a6-a265-d881fece1ccf",
   "metadata": {},
   "outputs": [],
   "source": [
    "arr3 = np.arange(6).reshape(2,3)\n",
    "arr4 = np.arange(6,12).reshape(3,2)"
   ]
  },
  {
   "cell_type": "code",
   "execution_count": 28,
   "id": "7d476c8a-9c21-4132-b365-f1d48e113898",
   "metadata": {},
   "outputs": [
    {
     "data": {
      "text/plain": [
       "array([[ 28,  31],\n",
       "       [100, 112]])"
      ]
     },
     "execution_count": 28,
     "metadata": {},
     "output_type": "execute_result"
    }
   ],
   "source": [
    "arr3.dot(arr4)\n",
    "# matrix multiplication of arr3 and arr4:"
   ]
  },
  {
   "cell_type": "code",
   "execution_count": 29,
   "id": "cf693752-70bd-459b-9540-2a89c0904260",
   "metadata": {},
   "outputs": [
    {
     "data": {
      "text/plain": [
       "array([[0, 1, 2],\n",
       "       [3, 4, 5]])"
      ]
     },
     "execution_count": 29,
     "metadata": {},
     "output_type": "execute_result"
    }
   ],
   "source": [
    "arr3"
   ]
  },
  {
   "cell_type": "code",
   "execution_count": 30,
   "id": "bd049438-5d96-460e-a5fb-32db0f1a17ed",
   "metadata": {},
   "outputs": [
    {
     "name": "stdout",
     "output_type": "stream",
     "text": [
      "the max element of arr3 is: 5 and the minimum element of the arr3 is:0\n"
     ]
    }
   ],
   "source": [
    "print(f'the max element of arr3 is: {arr3.max()} and the minimum element of the arr3 is:{arr3.min()}')"
   ]
  },
  {
   "cell_type": "code",
   "execution_count": 31,
   "id": "9d44c514-4277-49f9-ba62-f329df920a34",
   "metadata": {},
   "outputs": [
    {
     "data": {
      "text/plain": [
       "array([[ 6,  7],\n",
       "       [ 8,  9],\n",
       "       [10, 11]])"
      ]
     },
     "execution_count": 31,
     "metadata": {},
     "output_type": "execute_result"
    }
   ],
   "source": [
    "arr4"
   ]
  },
  {
   "cell_type": "code",
   "execution_count": 55,
   "id": "dfde00ee-0b69-4b32-83e6-db4f4db4885a",
   "metadata": {},
   "outputs": [
    {
     "data": {
      "text/plain": [
       "array([6, 7])"
      ]
     },
     "execution_count": 55,
     "metadata": {},
     "output_type": "execute_result"
    }
   ],
   "source": [
    "column_wise_min = arr4.min(axis=0)\n",
    "column_wise_min"
   ]
  },
  {
   "cell_type": "code",
   "execution_count": 43,
   "id": "9adfc2e5-8dd3-4b83-a567-e61dbba2cbb7",
   "metadata": {},
   "outputs": [
    {
     "data": {
      "text/plain": [
       "array([ 6,  8, 10])"
      ]
     },
     "execution_count": 43,
     "metadata": {},
     "output_type": "execute_result"
    }
   ],
   "source": [
    "arr4.min(axis=1)\n",
    "# row wise min list :"
   ]
  },
  {
   "cell_type": "code",
   "execution_count": 56,
   "id": "37130fb3-a354-4da3-ae01-2cbd2ce4b471",
   "metadata": {},
   "outputs": [
    {
     "data": {
      "text/plain": [
       "array([10, 11])"
      ]
     },
     "execution_count": 56,
     "metadata": {},
     "output_type": "execute_result"
    }
   ],
   "source": [
    "arr4.max(axis=0)\n",
    "# column wise max element list "
   ]
  },
  {
   "cell_type": "code",
   "execution_count": 57,
   "id": "635a68c5-7f7a-45f1-ba4b-70bace72b60e",
   "metadata": {},
   "outputs": [
    {
     "data": {
      "text/plain": [
       "array([ 7,  9, 11])"
      ]
     },
     "execution_count": 57,
     "metadata": {},
     "output_type": "execute_result"
    }
   ],
   "source": [
    "arr4.max(axis=1)\n",
    "#  row wise maximum in list :"
   ]
  },
  {
   "cell_type": "code",
   "execution_count": 46,
   "id": "865c6668-2159-4176-b5a0-992c5b35b071",
   "metadata": {},
   "outputs": [
    {
     "data": {
      "text/plain": [
       "array([[ 6,  7],\n",
       "       [ 8,  9],\n",
       "       [10, 11]])"
      ]
     },
     "execution_count": 46,
     "metadata": {},
     "output_type": "execute_result"
    }
   ],
   "source": [
    "arr4"
   ]
  },
  {
   "cell_type": "code",
   "execution_count": 58,
   "id": "2820b005-1e94-4ee0-95d5-92dbfc7ef5e5",
   "metadata": {},
   "outputs": [
    {
     "data": {
      "text/plain": [
       "51"
      ]
     },
     "execution_count": 58,
     "metadata": {},
     "output_type": "execute_result"
    }
   ],
   "source": [
    "sum_of_all_elemen = arr4.sum()\n",
    "sum_of_all_element"
   ]
  },
  {
   "cell_type": "raw",
   "id": "739d378f-942e-46a7-b16f-82b82f953a6f",
   "metadata": {},
   "source": []
  },
  {
   "cell_type": "code",
   "execution_count": 59,
   "id": "dad69ba4-dee2-4739-ab61-859b613c8238",
   "metadata": {},
   "outputs": [
    {
     "data": {
      "text/plain": [
       "array([24, 27])"
      ]
     },
     "execution_count": 59,
     "metadata": {},
     "output_type": "execute_result"
    }
   ],
   "source": [
    "column_wise_sum = arr4.sum(axis=0)\n",
    "column_wise_sum"
   ]
  },
  {
   "cell_type": "code",
   "execution_count": 61,
   "id": "a8d2c12d-eb14-4191-9132-3b69f839c23d",
   "metadata": {},
   "outputs": [
    {
     "data": {
      "text/plain": [
       "array([[ 6,  7],\n",
       "       [ 8,  9],\n",
       "       [10, 11]])"
      ]
     },
     "execution_count": 61,
     "metadata": {},
     "output_type": "execute_result"
    }
   ],
   "source": [
    "arr4"
   ]
  },
  {
   "cell_type": "code",
   "execution_count": 63,
   "id": "45b9f587-c18b-4fff-a990-2cd8b9d6897a",
   "metadata": {},
   "outputs": [
    {
     "data": {
      "text/plain": [
       "array([13, 17, 21])"
      ]
     },
     "execution_count": 63,
     "metadata": {},
     "output_type": "execute_result"
    }
   ],
   "source": [
    "row_wise_sum = arr4.sum(axis=1)\n",
    "row_wise_sum"
   ]
  },
  {
   "cell_type": "code",
   "execution_count": 65,
   "id": "64a2ea25-5978-4bd0-a8f8-2cb5e38dff6f",
   "metadata": {},
   "outputs": [
    {
     "name": "stdout",
     "output_type": "stream",
     "text": [
      "the mean of the all element of the array is:\n"
     ]
    },
    {
     "data": {
      "text/plain": [
       "8.5"
      ]
     },
     "execution_count": 65,
     "metadata": {},
     "output_type": "execute_result"
    }
   ],
   "source": [
    "print(\"the mean of the all element of the array is:\")\n",
    "arr4.mean()"
   ]
  },
  {
   "cell_type": "code",
   "execution_count": 67,
   "id": "efc860be-f70e-4ef8-a10d-aeff977774ac",
   "metadata": {},
   "outputs": [
    {
     "name": "stdout",
     "output_type": "stream",
     "text": [
      "the standard deviation: below \n"
     ]
    },
    {
     "data": {
      "text/plain": [
       "1.707825127659933"
      ]
     },
     "execution_count": 67,
     "metadata": {},
     "output_type": "execute_result"
    }
   ],
   "source": [
    "print(\"the standard deviation: below \")\n",
    "arr4.std()"
   ]
  },
  {
   "cell_type": "code",
   "execution_count": 69,
   "id": "74f33380-a662-4149-87e4-769d4fdc3458",
   "metadata": {},
   "outputs": [
    {
     "name": "stdout",
     "output_type": "stream",
     "text": [
      "the sin of the matrix is:\n"
     ]
    },
    {
     "data": {
      "text/plain": [
       "array([[-0.2794155 ,  0.6569866 ],\n",
       "       [ 0.98935825,  0.41211849],\n",
       "       [-0.54402111, -0.99999021]])"
      ]
     },
     "execution_count": 69,
     "metadata": {},
     "output_type": "execute_result"
    }
   ],
   "source": [
    "print(\"the sin of the matrix is:\")\n",
    "np.sin(arr4)"
   ]
  },
  {
   "cell_type": "code",
   "execution_count": 72,
   "id": "18e7be23-e7d1-4e33-9627-212e4f157e7f",
   "metadata": {},
   "outputs": [
    {
     "name": "stdout",
     "output_type": "stream",
     "text": [
      "the median of the array is: 8.5\n"
     ]
    }
   ],
   "source": [
    "np.median(arr4)\n",
    "print(f\"the median of the array is: {np.median(arr4)}\")"
   ]
  },
  {
   "cell_type": "code",
   "execution_count": 76,
   "id": "45114747-5f7b-4ee1-99a5-500dc5e5fe65",
   "metadata": {},
   "outputs": [
    {
     "name": "stdout",
     "output_type": "stream",
     "text": [
      "the exponent value of the array is:\n"
     ]
    },
    {
     "data": {
      "text/plain": [
       "array([[  403.42879349,  1096.63315843],\n",
       "       [ 2980.95798704,  8103.08392758],\n",
       "       [22026.46579481, 59874.1417152 ]])"
      ]
     },
     "execution_count": 76,
     "metadata": {},
     "output_type": "execute_result"
    }
   ],
   "source": [
    "print('the exponent value of the array is:')\n",
    "np.exp(arr4)"
   ]
  },
  {
   "cell_type": "code",
   "execution_count": null,
   "id": "2c01fc56-c4ec-42b7-bdcd-1b71af7fa01a",
   "metadata": {},
   "outputs": [],
   "source": []
  }
 ],
 "metadata": {
  "kernelspec": {
   "display_name": "Python 3 (ipykernel)",
   "language": "python",
   "name": "python3"
  },
  "language_info": {
   "codemirror_mode": {
    "name": "ipython",
    "version": 3
   },
   "file_extension": ".py",
   "mimetype": "text/x-python",
   "name": "python",
   "nbconvert_exporter": "python",
   "pygments_lexer": "ipython3",
   "version": "3.11.5"
  }
 },
 "nbformat": 4,
 "nbformat_minor": 5
}
