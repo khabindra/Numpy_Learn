{
 "cells": [
  {
   "cell_type": "code",
   "execution_count": 1,
   "id": "725dbd30-6d5d-4184-9adc-455d89a5c19b",
   "metadata": {},
   "outputs": [],
   "source": [
    "import numpy as np"
   ]
  },
  {
   "cell_type": "code",
   "execution_count": 3,
   "id": "0f33f468-036a-4b06-9b3e-09a3ee8a98f3",
   "metadata": {},
   "outputs": [
    {
     "data": {
      "text/plain": [
       "array([54, 59,  3, 67, 61,  6, 16, 63, 90, 46, 17, 73, 55, 54, 26, 64, 90,\n",
       "       56,  6,  3])"
      ]
     },
     "execution_count": 3,
     "metadata": {},
     "output_type": "execute_result"
    }
   ],
   "source": [
    "# Generate a 1-dimensional NumPy array of 20 random integers\n",
    "# The integers are generated between 1 (low) and 100 (high)\n",
    "\n",
    "arr = np.random.randint(low=1,high=100,size=20)\n",
    "arr"
   ]
  },
  {
   "cell_type": "code",
   "execution_count": 8,
   "id": "d3677445-869e-4aba-9dd8-19b5c10ca815",
   "metadata": {},
   "outputs": [
    {
     "data": {
      "text/plain": [
       "array([[54, 59,  3, 67, 61],\n",
       "       [ 6, 16, 63, 90, 46],\n",
       "       [17, 73, 55, 54, 26],\n",
       "       [64, 90, 56,  6,  3]])"
      ]
     },
     "execution_count": 8,
     "metadata": {},
     "output_type": "execute_result"
    }
   ],
   "source": [
    "# Reshape the 1-dimensional array into a 2-dimensional array with shape (4, 5)\n",
    "# This results in a 4x5 matrix (4 rows and 5 columns)\n",
    "arr = arr.reshape(4,5)\n",
    "arr"
   ]
  },
  {
   "cell_type": "code",
   "execution_count": 9,
   "id": "c5f5c213-9b97-4b7c-9221-2ef9bb37021e",
   "metadata": {},
   "outputs": [
    {
     "data": {
      "text/plain": [
       "array([[ True,  True, False,  True,  True],\n",
       "       [False, False,  True,  True, False],\n",
       "       [False,  True,  True,  True, False],\n",
       "       [ True,  True,  True, False, False]])"
      ]
     },
     "execution_count": 9,
     "metadata": {},
     "output_type": "execute_result"
    }
   ],
   "source": [
    "# Boolean array:\n",
    "arr>50"
   ]
  },
  {
   "cell_type": "code",
   "execution_count": 11,
   "id": "13a38310-c2a2-44e2-bd49-f68c3549dac7",
   "metadata": {},
   "outputs": [
    {
     "data": {
      "text/plain": [
       "array([54, 59, 67, 61, 63, 90, 73, 55, 54, 64, 90, 56])"
      ]
     },
     "execution_count": 11,
     "metadata": {},
     "output_type": "execute_result"
    }
   ],
   "source": [
    "# Indexing using boolean array\n",
    "arr[arr>50]\n",
    "# this prints the value above 50 only"
   ]
  },
  {
   "cell_type": "code",
   "execution_count": 13,
   "id": "b53a0884-bd5e-4c22-820e-fd6a8235b929",
   "metadata": {},
   "outputs": [
    {
     "data": {
      "text/plain": [
       "array([59, 67, 61, 63, 73, 55])"
      ]
     },
     "execution_count": 13,
     "metadata": {},
     "output_type": "execute_result"
    }
   ],
   "source": [
    "arr[(arr>50) & (arr%2 !=0) ]\n",
    "# this prints the array which has value more than 50 and which is not even "
   ]
  },
  {
   "cell_type": "code",
   "execution_count": 19,
   "id": "eadd788c-610b-4391-907f-72e33ff01a92",
   "metadata": {},
   "outputs": [
    {
     "data": {
      "text/plain": [
       "array([[54,  0,  3,  0,  0],\n",
       "       [ 6, 16,  0, 90, 46],\n",
       "       [17,  0,  0, 54, 26],\n",
       "       [64, 90, 56,  6,  3]])"
      ]
     },
     "execution_count": 19,
     "metadata": {},
     "output_type": "execute_result"
    }
   ],
   "source": [
    "arr[(arr>50) & (arr%2 !=0)]=0\n",
    "arr\n",
    "# this makes value 0 which is greater than 50 and odd"
   ]
  },
  {
   "cell_type": "code",
   "execution_count": null,
   "id": "edac6cab-3736-45d7-8cfe-70d5219fe103",
   "metadata": {},
   "outputs": [],
   "source": []
  }
 ],
 "metadata": {
  "kernelspec": {
   "display_name": "Python 3 (ipykernel)",
   "language": "python",
   "name": "python3"
  },
  "language_info": {
   "codemirror_mode": {
    "name": "ipython",
    "version": 3
   },
   "file_extension": ".py",
   "mimetype": "text/x-python",
   "name": "python",
   "nbconvert_exporter": "python",
   "pygments_lexer": "ipython3",
   "version": "3.11.5"
  }
 },
 "nbformat": 4,
 "nbformat_minor": 5
}
