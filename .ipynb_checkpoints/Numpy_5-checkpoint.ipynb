{
 "cells": [
  {
   "cell_type": "code",
   "execution_count": 1,
   "id": "5acb79f1-4034-44ca-9f14-ff47d5f17c95",
   "metadata": {},
   "outputs": [],
   "source": [
    "import numpy as np"
   ]
  },
  {
   "cell_type": "code",
   "execution_count": 2,
   "id": "3f37c4c2-0f06-4e7a-ac5e-9c131aae4e04",
   "metadata": {},
   "outputs": [
    {
     "data": {
      "text/plain": [
       "array([[ 6,  7],\n",
       "       [ 8,  9],\n",
       "       [10, 11]])"
      ]
     },
     "execution_count": 2,
     "metadata": {},
     "output_type": "execute_result"
    }
   ],
   "source": [
    "arr4 = np.array([[6,7],[8,9],[10,11]])\n",
    "arr4"
   ]
  },
  {
   "cell_type": "code",
   "execution_count": 3,
   "id": "2b147e95-6ab4-4e87-a5be-eee26d3f487f",
   "metadata": {},
   "outputs": [],
   "source": [
    "# today we are looking the Reshaping Numpy arrays:"
   ]
  },
  {
   "cell_type": "code",
   "execution_count": 8,
   "id": "39f20028-4daa-4ca2-a430-a65bba21f59a",
   "metadata": {},
   "outputs": [
    {
     "name": "stdout",
     "output_type": "stream",
     "text": [
      "the dimension of the arr4 is:2 \n"
     ]
    }
   ],
   "source": [
    "print(f\"the dimension of the arr4 is:{arr4.ndim} \")"
   ]
  },
  {
   "cell_type": "code",
   "execution_count": 12,
   "id": "b83e0fa6-5fc4-482f-ab25-ec3370e4a9d6",
   "metadata": {},
   "outputs": [
    {
     "data": {
      "text/plain": [
       "array([ 6,  7,  8,  9, 10, 11])"
      ]
     },
     "execution_count": 12,
     "metadata": {},
     "output_type": "execute_result"
    }
   ],
   "source": [
    "# changing the arr4 into one dimension:\n",
    "arr4.ravel()"
   ]
  },
  {
   "cell_type": "code",
   "execution_count": 13,
   "id": "fc618713-2572-4af4-b405-331a3313c937",
   "metadata": {},
   "outputs": [
    {
     "name": "stdout",
     "output_type": "stream",
     "text": [
      "the dimension after ravel:1\n"
     ]
    }
   ],
   "source": [
    "print(f\"the dimension after ravel:{arr4.ravel().ndim}\")"
   ]
  },
  {
   "cell_type": "code",
   "execution_count": 14,
   "id": "6b01026c-ba80-4e8b-9687-064fc6c2ab6f",
   "metadata": {},
   "outputs": [
    {
     "data": {
      "text/plain": [
       "array([[ 6,  8, 10],\n",
       "       [ 7,  9, 11]])"
      ]
     },
     "execution_count": 14,
     "metadata": {},
     "output_type": "execute_result"
    }
   ],
   "source": [
    "arr4.transpose()"
   ]
  },
  {
   "cell_type": "code",
   "execution_count": 15,
   "id": "aa98c193-877d-4a7d-bcaa-33683b8bc228",
   "metadata": {},
   "outputs": [
    {
     "data": {
      "text/plain": [
       "array([[ 6,  7],\n",
       "       [ 8,  9],\n",
       "       [10, 11]])"
      ]
     },
     "execution_count": 15,
     "metadata": {},
     "output_type": "execute_result"
    }
   ],
   "source": [
    "arr4"
   ]
  },
  {
   "cell_type": "code",
   "execution_count": 18,
   "id": "19a4ac91-9a18-4c38-9ea9-fa7468a96f33",
   "metadata": {},
   "outputs": [
    {
     "data": {
      "text/plain": [
       "array([[12, 13, 14],\n",
       "       [15, 16, 17]])"
      ]
     },
     "execution_count": 18,
     "metadata": {},
     "output_type": "execute_result"
    }
   ],
   "source": [
    "arr5 = np.arange(12,18).reshape(2,3)\n",
    "arr5"
   ]
  },
  {
   "cell_type": "code",
   "execution_count": 19,
   "id": "9f96fb2d-a0b5-4f33-872f-2cfeef7f99be",
   "metadata": {},
   "outputs": [
    {
     "data": {
      "text/plain": [
       "array([[0, 1, 2],\n",
       "       [3, 4, 5]])"
      ]
     },
     "execution_count": 19,
     "metadata": {},
     "output_type": "execute_result"
    }
   ],
   "source": [
    "arr3 = np.array([[0,1,2],[3,4,5]])\n",
    "arr3"
   ]
  },
  {
   "cell_type": "code",
   "execution_count": 21,
   "id": "c435af2a-72cc-4563-ae8b-fd7341ee931d",
   "metadata": {},
   "outputs": [
    {
     "data": {
      "text/plain": [
       "array([[ 0,  1,  2, 12, 13, 14],\n",
       "       [ 3,  4,  5, 15, 16, 17]])"
      ]
     },
     "execution_count": 21,
     "metadata": {},
     "output_type": "execute_result"
    }
   ],
   "source": [
    "horizontal_merge_of_array = np.hstack((arr3,arr5))\n",
    "horizontal_merge_of_array"
   ]
  },
  {
   "cell_type": "code",
   "execution_count": 23,
   "id": "679cada2-8a31-4d4d-a5ae-88d4f1d33a93",
   "metadata": {},
   "outputs": [
    {
     "data": {
      "text/plain": [
       "array([[ 0,  1,  2],\n",
       "       [ 3,  4,  5],\n",
       "       [12, 13, 14],\n",
       "       [15, 16, 17]])"
      ]
     },
     "execution_count": 23,
     "metadata": {},
     "output_type": "execute_result"
    }
   ],
   "source": [
    "vertical_merge_of_array = np.vstack((arr3,arr5))\n",
    "vertical_merge_of_array                           "
   ]
  },
  {
   "cell_type": "code",
   "execution_count": 24,
   "id": "fa89e3f1-6238-48f9-ac22-4b2ba3cf431b",
   "metadata": {},
   "outputs": [
    {
     "data": {
      "text/plain": [
       "array([[0, 1, 2],\n",
       "       [3, 4, 5]])"
      ]
     },
     "execution_count": 24,
     "metadata": {},
     "output_type": "execute_result"
    }
   ],
   "source": [
    "arr3"
   ]
  },
  {
   "cell_type": "code",
   "execution_count": 25,
   "id": "7c67d645-a6b6-43ab-871c-1e0306f9ea58",
   "metadata": {},
   "outputs": [
    {
     "data": {
      "text/plain": [
       "[array([[0, 1, 2]]), array([[3, 4, 5]])]"
      ]
     },
     "execution_count": 25,
     "metadata": {},
     "output_type": "execute_result"
    }
   ],
   "source": [
    "np.vsplit(arr3,2)\n",
    "# split between two matrixes of the array."
   ]
  },
  {
   "cell_type": "code",
   "execution_count": 28,
   "id": "4800f4f0-04b7-4801-8ede-82e1822284f5",
   "metadata": {},
   "outputs": [
    {
     "data": {
      "text/plain": [
       "[array([[0],\n",
       "        [3]]),\n",
       " array([[1],\n",
       "        [4]]),\n",
       " array([[2],\n",
       "        [5]])]"
      ]
     },
     "execution_count": 28,
     "metadata": {},
     "output_type": "execute_result"
    }
   ],
   "source": [
    "np.hsplit(arr3,3)\n",
    "# split between the each common index's column element of the two matrix of the array."
   ]
  },
  {
   "cell_type": "code",
   "execution_count": 29,
   "id": "51b427ed-0c5c-4e83-ab85-fe318b945e63",
   "metadata": {},
   "outputs": [
    {
     "data": {
      "text/plain": [
       "array([[ 6,  7],\n",
       "       [ 8,  9],\n",
       "       [10, 11]])"
      ]
     },
     "execution_count": 29,
     "metadata": {},
     "output_type": "execute_result"
    }
   ],
   "source": [
    "arr4"
   ]
  },
  {
   "cell_type": "code",
   "execution_count": 32,
   "id": "c3228db7-7f81-43e4-bb18-3ebef3273c40",
   "metadata": {},
   "outputs": [
    {
     "data": {
      "text/plain": [
       "[array([[6, 7]]), array([[8, 9]]), array([[10, 11]])]"
      ]
     },
     "execution_count": 32,
     "metadata": {},
     "output_type": "execute_result"
    }
   ],
   "source": [
    "np.vsplit(arr4,3)\n",
    "# np.vsplit(array_name,no_of_row);"
   ]
  },
  {
   "cell_type": "code",
   "execution_count": 34,
   "id": "705b16d3-038a-4e37-9e32-d0e2380f2924",
   "metadata": {},
   "outputs": [
    {
     "data": {
      "text/plain": [
       "[array([[ 6],\n",
       "        [ 8],\n",
       "        [10]]),\n",
       " array([[ 7],\n",
       "        [ 9],\n",
       "        [11]])]"
      ]
     },
     "execution_count": 34,
     "metadata": {},
     "output_type": "execute_result"
    }
   ],
   "source": [
    "np.hsplit(arr4,2)\n",
    "# np.hsplit(array_name,no_of_column);"
   ]
  },
  {
   "cell_type": "code",
   "execution_count": null,
   "id": "fce401a1-a872-412f-9b29-770ac82fe43d",
   "metadata": {},
   "outputs": [],
   "source": []
  }
 ],
 "metadata": {
  "kernelspec": {
   "display_name": "Python 3 (ipykernel)",
   "language": "python",
   "name": "python3"
  },
  "language_info": {
   "codemirror_mode": {
    "name": "ipython",
    "version": 3
   },
   "file_extension": ".py",
   "mimetype": "text/x-python",
   "name": "python",
   "nbconvert_exporter": "python",
   "pygments_lexer": "ipython3",
   "version": "3.11.5"
  }
 },
 "nbformat": 4,
 "nbformat_minor": 5
}
