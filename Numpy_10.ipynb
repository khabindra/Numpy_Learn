{
 "cells": [
  {
   "cell_type": "code",
   "execution_count": 4,
   "id": "0972d8e1-6cb6-40b3-97c0-1b7ea02174be",
   "metadata": {},
   "outputs": [],
   "source": [
    "import numpy as np"
   ]
  },
  {
   "cell_type": "code",
   "execution_count": 5,
   "id": "a406f53c-3cbc-4352-bcf4-be03bf087b60",
   "metadata": {},
   "outputs": [],
   "source": [
    "# some important numpy functions"
   ]
  },
  {
   "cell_type": "code",
   "execution_count": 6,
   "id": "10cac0ea-cafc-4771-9b5d-45b1a9c97f7f",
   "metadata": {},
   "outputs": [
    {
     "data": {
      "text/plain": [
       "0.6696377249597522"
      ]
     },
     "execution_count": 6,
     "metadata": {},
     "output_type": "execute_result"
    }
   ],
   "source": [
    "np.random.random()#produces the random float values from the 0.0 to 1"
   ]
  },
  {
   "cell_type": "code",
   "execution_count": 7,
   "id": "f29e6e25-929e-4895-8e7f-5f58bdc74608",
   "metadata": {},
   "outputs": [
    {
     "data": {
      "text/plain": [
       "0.417022004702574"
      ]
     },
     "execution_count": 7,
     "metadata": {},
     "output_type": "execute_result"
    }
   ],
   "source": [
    "np.random.seed(1)\n",
    "np.random.random()\n",
    "# this above code gives the random constant float value between 0 and 1 ."
   ]
  },
  {
   "cell_type": "code",
   "execution_count": 8,
   "id": "5aadef29-1c2c-4ce3-bd26-3cc350293dc6",
   "metadata": {},
   "outputs": [
    {
     "data": {
      "text/plain": [
       "0.43599490214200376"
      ]
     },
     "execution_count": 8,
     "metadata": {},
     "output_type": "execute_result"
    }
   ],
   "source": [
    "np.random.seed(2)\n",
    "np.random.random()"
   ]
  },
  {
   "cell_type": "code",
   "execution_count": 9,
   "id": "c2dde5a9-0b9f-4e58-ba86-0adc9268d6f9",
   "metadata": {},
   "outputs": [
    {
     "data": {
      "text/plain": [
       "3.566696950961242"
      ]
     },
     "execution_count": 9,
     "metadata": {},
     "output_type": "execute_result"
    }
   ],
   "source": [
    "np.random.uniform(1,100) #this gives the random float values from between the 1 to 100"
   ]
  },
  {
   "cell_type": "code",
   "execution_count": 10,
   "id": "f99c4b19-13c3-4d41-a740-8d57eace85a4",
   "metadata": {},
   "outputs": [
    {
     "data": {
      "text/plain": [
       "array([[55.41658531, 44.09691687, 42.61641241, 33.70314728, 21.26021477],\n",
       "       [62.30782567, 30.66581269, 27.41590024, 62.49224944, 53.38506733]])"
      ]
     },
     "execution_count": 10,
     "metadata": {},
     "output_type": "execute_result"
    }
   ],
   "source": [
    "arr1 = np.random.uniform(1,100,10).reshape(2,5)\n",
    "# this generates the 10 random float values in the array in 1 dimension .\n",
    "arr1"
   ]
  },
  {
   "cell_type": "code",
   "execution_count": 11,
   "id": "c9341da1-327a-42e1-b85a-e4e926a9c49f",
   "metadata": {},
   "outputs": [
    {
     "data": {
      "text/plain": [
       "array([[56.72899727, 75.67890606, 59.22199328, 89.26675739],\n",
       "       [92.69876463, 74.71184187, 92.32807427, 53.98227385],\n",
       "       [75.26230451, 53.26432522, 71.40611638, 54.82654578],\n",
       "       [56.35799859, 79.83726545, 61.30060003, 55.34728422],\n",
       "       [61.01531035, 67.49131425, 73.38937423, 60.08716131],\n",
       "       [82.02033626, 74.15349178, 75.261836  , 69.34463256]])"
      ]
     },
     "execution_count": 11,
     "metadata": {},
     "output_type": "execute_result"
    }
   ],
   "source": [
    "arr2 = np.random.uniform(50,100,24).reshape(6,4)\n",
    "# np.random.uniform(start,end,no_of_element).reshape(row,column)\n",
    "arr2"
   ]
  },
  {
   "cell_type": "code",
   "execution_count": 12,
   "id": "61f75160-f949-4a7e-97fc-21e6858065b6",
   "metadata": {},
   "outputs": [
    {
     "data": {
      "text/plain": [
       "array([13, 15, 10, 14])"
      ]
     },
     "execution_count": 12,
     "metadata": {},
     "output_type": "execute_result"
    }
   ],
   "source": [
    "arr3 = np.random.randint(5,16,4)\n",
    "# this gives the random integer value array between 5 to 16 and the number of element in the array is 4.\n",
    "arr3"
   ]
  },
  {
   "cell_type": "code",
   "execution_count": 13,
   "id": "8439ad59-b951-4fd2-a447-e6e5d80387cd",
   "metadata": {},
   "outputs": [
    {
     "data": {
      "text/plain": [
       "array([[4, 1, 1, 3, 9],\n",
       "       [9, 3, 7, 6, 7],\n",
       "       [7, 7, 4, 9, 3]])"
      ]
     },
     "execution_count": 13,
     "metadata": {},
     "output_type": "execute_result"
    }
   ],
   "source": [
    "np.random.randint(1,10,15).reshape(3,5)"
   ]
  },
  {
   "cell_type": "code",
   "execution_count": 14,
   "id": "596c5716-cd03-42b5-aecc-a36651f9de79",
   "metadata": {},
   "outputs": [
    {
     "data": {
      "text/plain": [
       "array([2, 5, 9, 2, 7, 6])"
      ]
     },
     "execution_count": 14,
     "metadata": {},
     "output_type": "execute_result"
    }
   ],
   "source": [
    "a = np.random.randint(1,10,6)\n",
    "a #gives the random integer value between 1 to 10 and the no of element in the array is 6."
   ]
  },
  {
   "cell_type": "code",
   "execution_count": 15,
   "id": "1e2bd6bd-509f-4669-aa8d-4f12af1284a1",
   "metadata": {},
   "outputs": [
    {
     "data": {
      "text/plain": [
       "9"
      ]
     },
     "execution_count": 15,
     "metadata": {},
     "output_type": "execute_result"
    }
   ],
   "source": [
    "a.max()#this gives the maximum element in the array a ."
   ]
  },
  {
   "cell_type": "code",
   "execution_count": 16,
   "id": "c8cbf5c6-bbfd-4d6e-8c49-d161367adbe2",
   "metadata": {},
   "outputs": [
    {
     "data": {
      "text/plain": [
       "2"
      ]
     },
     "execution_count": 16,
     "metadata": {},
     "output_type": "execute_result"
    }
   ],
   "source": [
    "np.min(a)\n",
    "# this gives minimum value in the array a ."
   ]
  },
  {
   "cell_type": "code",
   "execution_count": 17,
   "id": "4c00a183-0360-439a-a228-13664f381dd1",
   "metadata": {},
   "outputs": [
    {
     "data": {
      "text/plain": [
       "array([1, 4, 3, 5, 2, 7, 9, 8])"
      ]
     },
     "execution_count": 17,
     "metadata": {},
     "output_type": "execute_result"
    }
   ],
   "source": [
    "a1 = np.array([1,4,3,5,2,7,9,8])\n",
    "a1"
   ]
  },
  {
   "cell_type": "code",
   "execution_count": 18,
   "id": "c16e4157-5c25-42a1-b450-1740159f2460",
   "metadata": {},
   "outputs": [
    {
     "data": {
      "text/plain": [
       "6"
      ]
     },
     "execution_count": 18,
     "metadata": {},
     "output_type": "execute_result"
    }
   ],
   "source": [
    "np.argmax(a1) #this gives the index of the array which has maximum element."
   ]
  },
  {
   "cell_type": "code",
   "execution_count": 19,
   "id": "d1c63bc0-45e0-465b-b347-f8b666c49c80",
   "metadata": {},
   "outputs": [
    {
     "data": {
      "text/plain": [
       "0"
      ]
     },
     "execution_count": 19,
     "metadata": {},
     "output_type": "execute_result"
    }
   ],
   "source": [
    "np.argmin(a1) #this gives the index of the array which has minimum element in the array a1"
   ]
  },
  {
   "cell_type": "code",
   "execution_count": 20,
   "id": "4f710fd9-373d-4e35-a5a0-ab2a513142f2",
   "metadata": {},
   "outputs": [
    {
     "data": {
      "text/plain": [
       "array([1, 4, 3, 5, 2, 7, 9, 8])"
      ]
     },
     "execution_count": 20,
     "metadata": {},
     "output_type": "execute_result"
    }
   ],
   "source": [
    "a1"
   ]
  },
  {
   "cell_type": "code",
   "execution_count": 21,
   "id": "9123fbea-05ab-4fb8-9743-3aa5010a6bf2",
   "metadata": {},
   "outputs": [
    {
     "data": {
      "text/plain": [
       "1"
      ]
     },
     "execution_count": 21,
     "metadata": {},
     "output_type": "execute_result"
    }
   ],
   "source": [
    "minimum_element = a1[np.argmin(a1)]\n",
    "minimum_element"
   ]
  },
  {
   "cell_type": "code",
   "execution_count": 22,
   "id": "39e74326-b971-43ca-ae1f-7ffabdcdff35",
   "metadata": {},
   "outputs": [
    {
     "data": {
      "text/plain": [
       "9"
      ]
     },
     "execution_count": 22,
     "metadata": {},
     "output_type": "execute_result"
    }
   ],
   "source": [
    "largest_element = a1[np.argmax(a1)]\n",
    "largest_element"
   ]
  },
  {
   "cell_type": "code",
   "execution_count": 23,
   "id": "f5258a17-58f5-41c9-bce4-d8e3aee21d16",
   "metadata": {},
   "outputs": [
    {
     "data": {
      "text/plain": [
       "array([2, 3, 5, 8, 7, 5])"
      ]
     },
     "execution_count": 23,
     "metadata": {},
     "output_type": "execute_result"
    }
   ],
   "source": [
    "a = np.random.randint(1,10,6)\n",
    "a"
   ]
  },
  {
   "cell_type": "code",
   "execution_count": 24,
   "id": "ecd62fa2-75b2-4808-b53e-7bd1d064ff53",
   "metadata": {},
   "outputs": [
    {
     "data": {
      "text/plain": [
       "array([-1,  3,  5, -1,  7,  5])"
      ]
     },
     "execution_count": 24,
     "metadata": {},
     "output_type": "execute_result"
    }
   ],
   "source": [
    "a[a%2==0]=-1\n",
    "a\n",
    "# this changes the even number into -1 in the array a."
   ]
  },
  {
   "cell_type": "code",
   "execution_count": 25,
   "id": "6a3f24d7-5bef-4f52-b334-125d7018938b",
   "metadata": {},
   "outputs": [
    {
     "data": {
      "text/plain": [
       "array([38, 11,  9, 27, 36, 28])"
      ]
     },
     "execution_count": 25,
     "metadata": {},
     "output_type": "execute_result"
    }
   ],
   "source": [
    "a = np.random.randint(1,50,6)\n",
    "a"
   ]
  },
  {
   "cell_type": "code",
   "execution_count": 28,
   "id": "255563d6-b122-42a4-b8a3-f734cf75673b",
   "metadata": {},
   "outputs": [
    {
     "name": "stdout",
     "output_type": "stream",
     "text": [
      "[38 11  9 27 36 28]\n"
     ]
    },
    {
     "data": {
      "text/plain": [
       "array([38, -1, -1, -1, 36, 28])"
      ]
     },
     "execution_count": 28,
     "metadata": {},
     "output_type": "execute_result"
    }
   ],
   "source": [
    "print(a)\n",
    "np.where(a%2==1,-1,a) #here if number not found even then it is replaced by -1."
   ]
  },
  {
   "cell_type": "code",
   "execution_count": 35,
   "id": "9accfa91-1521-4a8a-9c34-2109a6748549",
   "metadata": {},
   "outputs": [
    {
     "data": {
      "text/plain": [
       "array([[ 5, 12, 15, 19, 10,  8],\n",
       "       [18, 19,  2, 16, 15,  1],\n",
       "       [ 8, 18,  9, 13, 15, 10],\n",
       "       [12, 15, 15,  1, 24, 17]])"
      ]
     },
     "execution_count": 35,
     "metadata": {},
     "output_type": "execute_result"
    }
   ],
   "source": [
    "arr1 = np.random.randint(1,25,24).reshape(4,6)\n",
    "arr1"
   ]
  },
  {
   "cell_type": "code",
   "execution_count": 37,
   "id": "d4aa3efa-8d5b-4001-85e6-c726895c7306",
   "metadata": {},
   "outputs": [
    {
     "data": {
      "text/plain": [
       "array([[ 5,  8, 10, 12, 15, 19],\n",
       "       [ 1,  2, 15, 16, 18, 19],\n",
       "       [ 8,  9, 10, 13, 15, 18],\n",
       "       [ 1, 12, 15, 15, 17, 24]])"
      ]
     },
     "execution_count": 37,
     "metadata": {},
     "output_type": "execute_result"
    }
   ],
   "source": [
    "np.sort(arr1)#this sorted data of each row in the ascending order."
   ]
  },
  {
   "cell_type": "code",
   "execution_count": 39,
   "id": "c742857a-3dc6-4acf-840c-fb428f0ea8eb",
   "metadata": {},
   "outputs": [
    {
     "data": {
      "text/plain": [
       "array([ 2, 44,  6,  8, 17, 42, 29, 16, 18, 38, 32, 35, 17, 43])"
      ]
     },
     "execution_count": 39,
     "metadata": {},
     "output_type": "execute_result"
    }
   ],
   "source": [
    "arr2 = np.random.randint(1,50,14)\n",
    "arr2"
   ]
  },
  {
   "cell_type": "code",
   "execution_count": 40,
   "id": "af352796-c637-4b0f-990b-737b3304fa11",
   "metadata": {},
   "outputs": [
    {
     "data": {
      "text/plain": [
       "array([ 2,  6,  8, 16, 17, 17, 18, 29, 32, 35, 38, 42, 43, 44])"
      ]
     },
     "execution_count": 40,
     "metadata": {},
     "output_type": "execute_result"
    }
   ],
   "source": [
    "sorted_array = np.sort(arr2)\n",
    "sorted_array"
   ]
  },
  {
   "cell_type": "code",
   "execution_count": 43,
   "id": "4efcbcf1-6ea2-438c-a923-af18779ea06c",
   "metadata": {},
   "outputs": [
    {
     "name": "stdout",
     "output_type": "stream",
     "text": [
      "[ 2  6  8 16 17 17 18 29 32 35 38 42 43 44]\n"
     ]
    },
    {
     "data": {
      "text/plain": [
       "16.25"
      ]
     },
     "execution_count": 43,
     "metadata": {},
     "output_type": "execute_result"
    }
   ],
   "source": [
    "print(sorted_array)\n",
    "np.percentile(sorted_array,25)\n",
    "# np.percentile(sorted_array, 25). This means that 25% of the values in the sorted array are less than or equal to the calculated percentile."
   ]
  },
  {
   "cell_type": "code",
   "execution_count": 50,
   "id": "dff8a8a5-1515-4655-ac67-826f55d0179b",
   "metadata": {},
   "outputs": [
    {
     "name": "stdout",
     "output_type": "stream",
     "text": [
      "random Array  [ 62  99  24  20  98  32  82  90  74  60   1   9  11   9 100  47  36  79\n",
      "  80  55]\n",
      "23.0\n"
     ]
    }
   ],
   "source": [
    "random_array = np.random.randint(1,101, size = 20)\n",
    "print(\"random Array \",random_array)\n",
    "percentile_25 = np.percentile(random_array, 25)\n",
    "print(percentile_25)"
   ]
  },
  {
   "cell_type": "code",
   "execution_count": 51,
   "id": "6195063b-48ce-414d-9d02-9d4d1d164595",
   "metadata": {},
   "outputs": [],
   "source": [
    " # the 25th percentile is approximately 23.0. This means that 25% of the values in the randomly generated array are less than or equal to 23.0. The 25th percentile is a measure of central tendency that helps describe the distribution of the data."
   ]
  },
  {
   "cell_type": "code",
   "execution_count": null,
   "id": "c80c9964-1f44-4ff3-a99d-f1d8b9215642",
   "metadata": {},
   "outputs": [],
   "source": []
  }
 ],
 "metadata": {
  "kernelspec": {
   "display_name": "Python 3 (ipykernel)",
   "language": "python",
   "name": "python3"
  },
  "language_info": {
   "codemirror_mode": {
    "name": "ipython",
    "version": 3
   },
   "file_extension": ".py",
   "mimetype": "text/x-python",
   "name": "python",
   "nbconvert_exporter": "python",
   "pygments_lexer": "ipython3",
   "version": "3.11.5"
  }
 },
 "nbformat": 4,
 "nbformat_minor": 5
}
